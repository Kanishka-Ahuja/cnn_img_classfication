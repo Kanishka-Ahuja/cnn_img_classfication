{
 "cells": [
  {
   "cell_type": "code",
   "execution_count": 1,
   "metadata": {},
   "outputs": [],
   "source": [
    "# Importing necessary libraries and modules\n",
    "import pandas as pd # Read Write files\n",
    "import numpy as np # arrays\n",
    "import matplotlib.pyplot as plt #Graph-Plotting\n",
    "import tensorflow as tf #Mostly used for Training deep learning models\n",
    "from tensorflow.keras import datasets, layers, models\n",
    "from tensorflow.keras.preprocessing.image import ImageDataGenerator\n",
    "from tensorflow.keras.callbacks import EarlyStopping\n",
    "import pickle\n",
    "from sklearn.metrics import confusion_matrix, classification_report"
   ]
  },
  {
   "cell_type": "code",
   "execution_count": 2,
   "metadata": {},
   "outputs": [],
   "source": [
    "# Loading the dataset\n",
    "(X_train, y_train), (X_test, y_test) = datasets.cifar10.load_data()\n",
    "\n",
    "# Reshaping the target column into array\n",
    "y_train = y_train.reshape(-1,)                                          \n",
    "y_test = y_test.reshape(-1,)\n",
    "\n",
    "# Creating an array for labels                        \n",
    "classes = [\"airplane\",\"automobile\",\"bird\",\"cat\",\"deer\",\"dog\",\"frog\",\"horse\",\"ship\",\"truck\"]"
   ]
  },
  {
   "cell_type": "code",
   "execution_count": 3,
   "metadata": {},
   "outputs": [
    {
     "data": {
      "image/png": "[encoded data removed]",
      "text/plain": [
       "<Figure size 1500x200 with 1 Axes>"
      ]
     },
     "metadata": {},
     "output_type": "display_data"
    },
    {
     "data": {
      "image/png": "[encoded data removed]",
      "text/plain": [
       "<Figure size 1500x200 with 1 Axes>"
      ]
     },
     "metadata": {},
     "output_type": "display_data"
    }
   ],
   "source": [
    "# Function to plot sample images\n",
    "def plot_sample(X, y, index):\n",
    "    plt.figure(figsize=(15, 2))\n",
    "    plt.imshow(X[index])\n",
    "    plt.xlabel(classes[y[index]])\n",
    "\n",
    "# Plot sample images from the training set\n",
    "plot_sample(X_train, y_train, 0)\n",
    "plot_sample(X_train, y_train, 500)"
   ]
  },
  {
   "cell_type": "code",
   "execution_count": 4,
   "metadata": {},
   "outputs": [],
   "source": [
    "# Normalize the pixels values between 0 and 1\n",
    "X_train = X_train / 255.0\n",
    "X_test = X_test / 255.0"
   ]
  },
  {
   "cell_type": "code",
   "execution_count": 5,
   "metadata": {},
   "outputs": [
    {
     "name": "stdout",
     "output_type": "stream",
     "text": [
      "Epoch 1/30\n",
      "1563/1563 [==============================] - 199s 124ms/step - loss: 1.8154 - accuracy: 0.3514\n",
      "Epoch 2/30\n",
      "1563/1563 [==============================] - 183s 117ms/step - loss: 1.6258 - accuracy: 0.4260\n",
      "Epoch 3/30\n",
      "1563/1563 [==============================] - 186s 119ms/step - loss: 1.5453 - accuracy: 0.4574\n",
      "Epoch 4/30\n",
      "1563/1563 [==============================] - 186s 119ms/step - loss: 1.4848 - accuracy: 0.4753\n",
      "Epoch 5/30\n",
      "1563/1563 [==============================] - 183s 117ms/step - loss: 1.4338 - accuracy: 0.4977\n",
      "Epoch 6/30\n",
      "1563/1563 [==============================] - 183s 117ms/step - loss: 1.3928 - accuracy: 0.5094\n",
      "Epoch 7/30\n",
      "1563/1563 [==============================] - 182s 117ms/step - loss: 1.3554 - accuracy: 0.5249\n",
      "Epoch 8/30\n",
      "1563/1563 [==============================] - 186s 119ms/step - loss: 1.3183 - accuracy: 0.5368\n",
      "Epoch 9/30\n",
      "1563/1563 [==============================] - 185s 119ms/step - loss: 1.2856 - accuracy: 0.5494\n",
      "Epoch 10/30\n",
      "1563/1563 [==============================] - 184s 118ms/step - loss: 1.2549 - accuracy: 0.5591\n",
      "Epoch 11/30\n",
      "1563/1563 [==============================] - 185s 118ms/step - loss: 1.2258 - accuracy: 0.5685\n",
      "Epoch 12/30\n",
      "1563/1563 [==============================] - 184s 118ms/step - loss: 1.1960 - accuracy: 0.5817\n",
      "Epoch 13/30\n",
      "1563/1563 [==============================] - 191s 122ms/step - loss: 1.1701 - accuracy: 0.5919\n",
      "Epoch 14/30\n",
      "1563/1563 [==============================] - 189s 121ms/step - loss: 1.1418 - accuracy: 0.6018\n",
      "Epoch 15/30\n",
      "1563/1563 [==============================] - 192s 123ms/step - loss: 1.1160 - accuracy: 0.6107\n",
      "Epoch 16/30\n",
      "1563/1563 [==============================] - 190s 121ms/step - loss: 1.0870 - accuracy: 0.6222\n",
      "Epoch 17/30\n",
      "1563/1563 [==============================] - 192s 123ms/step - loss: 1.0639 - accuracy: 0.6301\n",
      "Epoch 18/30\n",
      "1563/1563 [==============================] - 200s 128ms/step - loss: 1.0358 - accuracy: 0.6423\n",
      "Epoch 19/30\n",
      "1563/1563 [==============================] - 158s 101ms/step - loss: 1.0103 - accuracy: 0.6485\n",
      "Epoch 20/30\n",
      "1563/1563 [==============================] - 153s 98ms/step - loss: 0.9827 - accuracy: 0.6589\n",
      "Epoch 21/30\n",
      "1563/1563 [==============================] - 155s 99ms/step - loss: 0.9585 - accuracy: 0.6677\n",
      "Epoch 22/30\n",
      "1563/1563 [==============================] - 153s 98ms/step - loss: 0.9338 - accuracy: 0.6772\n",
      "Epoch 23/30\n",
      "1563/1563 [==============================] - 156s 100ms/step - loss: 0.9070 - accuracy: 0.6838\n",
      "Epoch 24/30\n",
      "1563/1563 [==============================] - 154s 99ms/step - loss: 0.8836 - accuracy: 0.6949\n",
      "Epoch 25/30\n",
      "1563/1563 [==============================] - 157s 100ms/step - loss: 0.8582 - accuracy: 0.7052\n",
      "Epoch 26/30\n",
      "1563/1563 [==============================] - 154s 99ms/step - loss: 0.8315 - accuracy: 0.7148\n",
      "Epoch 27/30\n",
      "1563/1563 [==============================] - 156s 100ms/step - loss: 0.8056 - accuracy: 0.7219\n",
      "Epoch 28/30\n",
      "1563/1563 [==============================] - 158s 101ms/step - loss: 0.7806 - accuracy: 0.7335\n",
      "Epoch 29/30\n",
      "1563/1563 [==============================] - 174s 111ms/step - loss: 0.7550 - accuracy: 0.7418\n",
      "Epoch 30/30\n",
      "1563/1563 [==============================] - 176s 112ms/step - loss: 0.7306 - accuracy: 0.7494\n"
     ]
    },
    {
     "data": {
      "text/plain": [
       "<keras.src.callbacks.History at 0x1e026ee5420>"
      ]
     },
     "execution_count": 5,
     "metadata": {},
     "output_type": "execute_result"
    }
   ],
   "source": [
    "# Build a simple artificial neural network for image classification\n",
    "ann = models.Sequential([\n",
    "    layers.Flatten(input_shape=(32, 32, 3)),\n",
    "    layers.Dense(3000, activation='relu'),\n",
    "    layers.Dense(1000, activation='relu'),\n",
    "    layers.Dense(10, activation='softmax')\n",
    "])\n",
    "ann.compile(optimizer='SGD', loss='sparse_categorical_crossentropy', metrics=['accuracy'])\n",
    "ann.fit(X_train, y_train, epochs=30)"
   ]
  },
  {
   "cell_type": "code",
   "execution_count": 6,
   "metadata": {},
   "outputs": [
    {
     "name": "stdout",
     "output_type": "stream",
     "text": [
      "313/313 [==============================] - 8s 24ms/step\n",
      "Classification Report: \n",
      "               precision    recall  f1-score   support\n",
      "\n",
      "           0       0.55      0.73      0.62      1000\n",
      "           1       0.70      0.66      0.68      1000\n",
      "           2       0.53      0.36      0.43      1000\n",
      "           3       0.37      0.38      0.37      1000\n",
      "           4       0.38      0.66      0.48      1000\n",
      "           5       0.46      0.43      0.44      1000\n",
      "           6       0.79      0.41      0.54      1000\n",
      "           7       0.61      0.63      0.62      1000\n",
      "           8       0.67      0.68      0.67      1000\n",
      "           9       0.69      0.54      0.60      1000\n",
      "\n",
      "    accuracy                           0.55     10000\n",
      "   macro avg       0.57      0.55      0.55     10000\n",
      "weighted avg       0.57      0.55      0.55     10000\n",
      "\n"
     ]
    }
   ],
   "source": [
    "# Evaluate the ANN model\n",
    "y_pred = ann.predict(X_test)\n",
    "y_pred_classes = [np.argmax(element) for element in y_pred]\n",
    "print(\"Classification Report: \\n\", classification_report(y_test, y_pred_classes))"
   ]
  },
  {
   "cell_type": "code",
   "execution_count": 7,
   "metadata": {},
   "outputs": [
    {
     "name": "stdout",
     "output_type": "stream",
     "text": [
      "Epoch 1/100\n",
      "1563/1563 [==============================] - 49s 30ms/step - loss: 1.4428 - accuracy: 0.4791\n",
      "Epoch 2/100\n",
      "1563/1563 [==============================] - 50s 32ms/step - loss: 1.1033 - accuracy: 0.6138\n",
      "Epoch 3/100\n",
      "1563/1563 [==============================] - 56s 36ms/step - loss: 0.9713 - accuracy: 0.6606\n",
      "Epoch 4/100\n",
      "1563/1563 [==============================] - 57s 36ms/step - loss: 0.8855 - accuracy: 0.6921\n",
      "Epoch 5/100\n",
      "1563/1563 [==============================] - 58s 37ms/step - loss: 0.8144 - accuracy: 0.7153\n",
      "Epoch 6/100\n",
      "1563/1563 [==============================] - 59s 38ms/step - loss: 0.7519 - accuracy: 0.7380\n",
      "Epoch 7/100\n",
      "1563/1563 [==============================] - 720s 461ms/step - loss: 0.6964 - accuracy: 0.7578\n",
      "Epoch 8/100\n",
      "1563/1563 [==============================] - 38s 24ms/step - loss: 0.6484 - accuracy: 0.7736\n",
      "Epoch 9/100\n",
      "1563/1563 [==============================] - 37s 24ms/step - loss: 0.5996 - accuracy: 0.7893\n",
      "Epoch 10/100\n",
      "1563/1563 [==============================] - 34s 22ms/step - loss: 0.5568 - accuracy: 0.8050\n",
      "Epoch 11/100\n",
      "1563/1563 [==============================] - 36s 23ms/step - loss: 0.5146 - accuracy: 0.8200\n",
      "Epoch 12/100\n",
      "1563/1563 [==============================] - 34s 21ms/step - loss: 0.4798 - accuracy: 0.8325\n",
      "Epoch 13/100\n",
      "1563/1563 [==============================] - 35s 23ms/step - loss: 0.4439 - accuracy: 0.8446\n",
      "Epoch 14/100\n",
      "1563/1563 [==============================] - 35s 22ms/step - loss: 0.4127 - accuracy: 0.8535\n",
      "Epoch 15/100\n",
      "1563/1563 [==============================] - 34s 22ms/step - loss: 0.3806 - accuracy: 0.8643\n",
      "Epoch 16/100\n",
      "1563/1563 [==============================] - 42s 27ms/step - loss: 0.3523 - accuracy: 0.8758\n",
      "Epoch 17/100\n",
      "1563/1563 [==============================] - 45s 29ms/step - loss: 0.3263 - accuracy: 0.8852\n",
      "Epoch 18/100\n",
      "1563/1563 [==============================] - 92s 59ms/step - loss: 0.3005 - accuracy: 0.8941\n",
      "Epoch 19/100\n",
      "1563/1563 [==============================] - 88s 56ms/step - loss: 0.2842 - accuracy: 0.8988\n",
      "Epoch 20/100\n",
      "1563/1563 [==============================] - 96s 62ms/step - loss: 0.2607 - accuracy: 0.9080\n",
      "Epoch 21/100\n",
      "1563/1563 [==============================] - 85s 55ms/step - loss: 0.2414 - accuracy: 0.9154\n",
      "Epoch 22/100\n",
      "1563/1563 [==============================] - 91s 58ms/step - loss: 0.2265 - accuracy: 0.9189\n",
      "Epoch 23/100\n",
      "1563/1563 [==============================] - 88s 56ms/step - loss: 0.2065 - accuracy: 0.9270\n",
      "Epoch 24/100\n",
      "1563/1563 [==============================] - 90s 57ms/step - loss: 0.1957 - accuracy: 0.9299\n",
      "Epoch 25/100\n",
      "1563/1563 [==============================] - 91s 58ms/step - loss: 0.1845 - accuracy: 0.9334\n",
      "Epoch 26/100\n",
      "1563/1563 [==============================] - 89s 57ms/step - loss: 0.1692 - accuracy: 0.9407\n",
      "Epoch 27/100\n",
      "1563/1563 [==============================] - 92s 59ms/step - loss: 0.1605 - accuracy: 0.9423\n",
      "Epoch 28/100\n",
      "1563/1563 [==============================] - 89s 57ms/step - loss: 0.1510 - accuracy: 0.9465\n",
      "Epoch 29/100\n",
      "1563/1563 [==============================] - 92s 59ms/step - loss: 0.1453 - accuracy: 0.9485\n",
      "Epoch 30/100\n",
      "1563/1563 [==============================] - 88s 56ms/step - loss: 0.1359 - accuracy: 0.9513\n",
      "Epoch 31/100\n",
      "1563/1563 [==============================] - 93s 60ms/step - loss: 0.1336 - accuracy: 0.9534\n",
      "Epoch 32/100\n",
      "1563/1563 [==============================] - 88s 56ms/step - loss: 0.1256 - accuracy: 0.9561\n",
      "Epoch 33/100\n",
      "1563/1563 [==============================] - 88s 56ms/step - loss: 0.1195 - accuracy: 0.9574\n",
      "Epoch 34/100\n",
      "1563/1563 [==============================] - 92s 59ms/step - loss: 0.1234 - accuracy: 0.9557\n",
      "Epoch 35/100\n",
      "1563/1563 [==============================] - 88s 56ms/step - loss: 0.1054 - accuracy: 0.9631\n",
      "Epoch 36/100\n",
      "1563/1563 [==============================] - 93s 60ms/step - loss: 0.1127 - accuracy: 0.9603\n",
      "Epoch 37/100\n",
      "1563/1563 [==============================] - 88s 56ms/step - loss: 0.1071 - accuracy: 0.9628\n",
      "Epoch 38/100\n",
      "1563/1563 [==============================] - 90s 58ms/step - loss: 0.1053 - accuracy: 0.9628\n",
      "Epoch 39/100\n",
      "1563/1563 [==============================] - 89s 57ms/step - loss: 0.1023 - accuracy: 0.9647\n",
      "Epoch 40/100\n",
      "1563/1563 [==============================] - 95s 61ms/step - loss: 0.1037 - accuracy: 0.9635\n",
      "Epoch 41/100\n",
      "1563/1563 [==============================] - 96s 62ms/step - loss: 0.0963 - accuracy: 0.9661\n",
      "Epoch 42/100\n",
      "1563/1563 [==============================] - 92s 59ms/step - loss: 0.0953 - accuracy: 0.9677\n",
      "Epoch 43/100\n",
      "1563/1563 [==============================] - 95s 61ms/step - loss: 0.0926 - accuracy: 0.9683\n",
      "Epoch 44/100\n",
      "1563/1563 [==============================] - 94s 60ms/step - loss: 0.0919 - accuracy: 0.9683\n",
      "Epoch 45/100\n",
      "1563/1563 [==============================] - 106s 68ms/step - loss: 0.0927 - accuracy: 0.9680\n",
      "Epoch 46/100\n",
      "1563/1563 [==============================] - 104s 67ms/step - loss: 0.0841 - accuracy: 0.9699\n",
      "Epoch 47/100\n",
      "1563/1563 [==============================] - 96s 61ms/step - loss: 0.0812 - accuracy: 0.9713\n",
      "Epoch 48/100\n",
      "1563/1563 [==============================] - 97s 62ms/step - loss: 0.0868 - accuracy: 0.9715\n",
      "Epoch 49/100\n",
      "1563/1563 [==============================] - 94s 60ms/step - loss: 0.0804 - accuracy: 0.9723\n",
      "Epoch 50/100\n",
      "1563/1563 [==============================] - 88s 56ms/step - loss: 0.0867 - accuracy: 0.9705\n",
      "Epoch 51/100\n",
      "1563/1563 [==============================] - 87s 55ms/step - loss: 0.0780 - accuracy: 0.9733\n",
      "Epoch 52/100\n",
      "1563/1563 [==============================] - 90s 58ms/step - loss: 0.0777 - accuracy: 0.9736\n",
      "Epoch 53/100\n",
      "1563/1563 [==============================] - 86s 55ms/step - loss: 0.0799 - accuracy: 0.9727\n",
      "Epoch 54/100\n",
      "1563/1563 [==============================] - 88s 56ms/step - loss: 0.0788 - accuracy: 0.9736\n",
      "Epoch 55/100\n",
      "1563/1563 [==============================] - 89s 57ms/step - loss: 0.0814 - accuracy: 0.9732\n",
      "Epoch 56/100\n",
      "1563/1563 [==============================] - 86s 55ms/step - loss: 0.0719 - accuracy: 0.9749\n",
      "Epoch 57/100\n",
      "1563/1563 [==============================] - 90s 57ms/step - loss: 0.0738 - accuracy: 0.9751\n",
      "Epoch 58/100\n",
      "1563/1563 [==============================] - 87s 55ms/step - loss: 0.0721 - accuracy: 0.9766\n",
      "Epoch 59/100\n",
      "1563/1563 [==============================] - 90s 58ms/step - loss: 0.0755 - accuracy: 0.9753\n",
      "Epoch 60/100\n",
      "1563/1563 [==============================] - 87s 55ms/step - loss: 0.0728 - accuracy: 0.9752\n",
      "Epoch 61/100\n",
      "1563/1563 [==============================] - 90s 57ms/step - loss: 0.0772 - accuracy: 0.9748\n",
      "Epoch 62/100\n",
      "1563/1563 [==============================] - 86s 55ms/step - loss: 0.0681 - accuracy: 0.9774\n",
      "Epoch 63/100\n",
      "1563/1563 [==============================] - 86s 55ms/step - loss: 0.0687 - accuracy: 0.9775\n",
      "Epoch 64/100\n",
      "1563/1563 [==============================] - 91s 58ms/step - loss: 0.0639 - accuracy: 0.9789\n",
      "Epoch 65/100\n",
      "1563/1563 [==============================] - 71s 46ms/step - loss: 0.0708 - accuracy: 0.9768\n",
      "Epoch 66/100\n",
      "1563/1563 [==============================] - 35s 22ms/step - loss: 0.0709 - accuracy: 0.9768\n",
      "Epoch 67/100\n",
      "1563/1563 [==============================] - 35s 22ms/step - loss: 0.0746 - accuracy: 0.9759\n",
      "Epoch 68/100\n",
      "1563/1563 [==============================] - 35s 23ms/step - loss: 0.0616 - accuracy: 0.9799\n",
      "Epoch 69/100\n",
      "1563/1563 [==============================] - 35s 22ms/step - loss: 0.0662 - accuracy: 0.9775\n",
      "Epoch 70/100\n",
      "1563/1563 [==============================] - 37s 24ms/step - loss: 0.0689 - accuracy: 0.9783\n",
      "Epoch 71/100\n",
      "1563/1563 [==============================] - 36s 23ms/step - loss: 0.0676 - accuracy: 0.9781\n",
      "Epoch 72/100\n",
      "1563/1563 [==============================] - 35s 22ms/step - loss: 0.0633 - accuracy: 0.9792\n",
      "Epoch 73/100\n",
      "1563/1563 [==============================] - 36s 23ms/step - loss: 0.0671 - accuracy: 0.9787\n",
      "Epoch 74/100\n",
      "1563/1563 [==============================] - 34s 22ms/step - loss: 0.0654 - accuracy: 0.9791\n",
      "Epoch 75/100\n",
      "1563/1563 [==============================] - 40s 26ms/step - loss: 0.0645 - accuracy: 0.9791\n",
      "Epoch 76/100\n",
      "1563/1563 [==============================] - 35s 22ms/step - loss: 0.0598 - accuracy: 0.9804\n",
      "Epoch 77/100\n",
      "1563/1563 [==============================] - 37s 24ms/step - loss: 0.0626 - accuracy: 0.9791\n",
      "Epoch 78/100\n",
      "1563/1563 [==============================] - 36s 23ms/step - loss: 0.0606 - accuracy: 0.9810\n",
      "Epoch 79/100\n",
      "1563/1563 [==============================] - 39s 25ms/step - loss: 0.0698 - accuracy: 0.9782\n",
      "Epoch 80/100\n",
      "1563/1563 [==============================] - 38s 24ms/step - loss: 0.0575 - accuracy: 0.9821\n",
      "Epoch 81/100\n",
      "1563/1563 [==============================] - 39s 25ms/step - loss: 0.0616 - accuracy: 0.9804\n",
      "Epoch 82/100\n",
      "1563/1563 [==============================] - 39s 25ms/step - loss: 0.0608 - accuracy: 0.9811\n",
      "Epoch 83/100\n",
      "1563/1563 [==============================] - 37s 23ms/step - loss: 0.0616 - accuracy: 0.9806\n",
      "Epoch 84/100\n",
      "1563/1563 [==============================] - 38s 24ms/step - loss: 0.0619 - accuracy: 0.9802\n",
      "Epoch 85/100\n",
      "1563/1563 [==============================] - 40s 26ms/step - loss: 0.0561 - accuracy: 0.9826\n",
      "Epoch 86/100\n",
      "1563/1563 [==============================] - 68s 43ms/step - loss: 0.0543 - accuracy: 0.9827\n",
      "Epoch 87/100\n",
      "1563/1563 [==============================] - 62s 39ms/step - loss: 0.0619 - accuracy: 0.9809\n",
      "Epoch 88/100\n",
      "1563/1563 [==============================] - 43s 27ms/step - loss: 0.0594 - accuracy: 0.9816\n",
      "Epoch 89/100\n",
      "1563/1563 [==============================] - 47s 30ms/step - loss: 0.0588 - accuracy: 0.9824\n",
      "Epoch 90/100\n",
      "1563/1563 [==============================] - 48s 31ms/step - loss: 0.0560 - accuracy: 0.9828\n",
      "Epoch 91/100\n",
      "1563/1563 [==============================] - 41s 26ms/step - loss: 0.0597 - accuracy: 0.9820\n",
      "Epoch 92/100\n",
      "1563/1563 [==============================] - 39s 25ms/step - loss: 0.0555 - accuracy: 0.9828\n",
      "Epoch 93/100\n",
      "1563/1563 [==============================] - 39s 25ms/step - loss: 0.0527 - accuracy: 0.9828\n",
      "Epoch 94/100\n",
      "1563/1563 [==============================] - 41s 27ms/step - loss: 0.0626 - accuracy: 0.9813\n",
      "Epoch 95/100\n",
      "1563/1563 [==============================] - 39s 25ms/step - loss: 0.0502 - accuracy: 0.9839\n",
      "Epoch 96/100\n",
      "1563/1563 [==============================] - 36s 23ms/step - loss: 0.0624 - accuracy: 0.9808\n",
      "Epoch 97/100\n",
      "1563/1563 [==============================] - 36s 23ms/step - loss: 0.0518 - accuracy: 0.9839\n",
      "Epoch 98/100\n",
      "1563/1563 [==============================] - 36s 23ms/step - loss: 0.0511 - accuracy: 0.9843\n",
      "Epoch 99/100\n",
      "1563/1563 [==============================] - 36s 23ms/step - loss: 0.0628 - accuracy: 0.9817\n",
      "Epoch 100/100\n",
      "1563/1563 [==============================] - 36s 23ms/step - loss: 0.0536 - accuracy: 0.9838\n"
     ]
    },
    {
     "data": {
      "text/plain": [
       "<keras.src.callbacks.History at 0x1e01fa59f30>"
      ]
     },
     "execution_count": 7,
     "metadata": {},
     "output_type": "execute_result"
    }
   ],
   "source": [
    "# Build a convolutional neural network to train the images\n",
    "cnn = models.Sequential([\n",
    "    layers.Conv2D(filters=32, kernel_size=(3, 3), activation='relu', input_shape=(32, 32, 3)),\n",
    "    layers.MaxPooling2D((2, 2)),\n",
    "    layers.Conv2D(filters=64, kernel_size=(3, 3), activation='relu'),\n",
    "    layers.MaxPooling2D((2, 2)),\n",
    "    layers.Flatten(),\n",
    "    layers.Dense(64, activation='relu'),\n",
    "    layers.Dense(10, activation='softmax')\n",
    "])\n",
    "cnn.compile(optimizer='adam', loss='sparse_categorical_crossentropy', metrics=['accuracy'])\n",
    "cnn.fit(X_train, y_train, epochs=100)"
   ]
  },
  {
   "cell_type": "code",
   "execution_count": 8,
   "metadata": {},
   "outputs": [
    {
     "name": "stdout",
     "output_type": "stream",
     "text": [
      "313/313 [==============================] - 3s 8ms/step - loss: 4.8269 - accuracy: 0.6632\n",
      "313/313 [==============================] - 3s 8ms/step\n"
     ]
    }
   ],
   "source": [
    "# Evaluate the CNN model\n",
    "cnn.evaluate(X_test, y_test)\n",
    "\n",
    "y_pred = cnn.predict(X_test)\n",
    "y_classes = [np.argmax(element) for element in y_pred]"
   ]
  },
  {
   "cell_type": "code",
   "execution_count": 9,
   "metadata": {},
   "outputs": [
    {
     "name": "stdout",
     "output_type": "stream",
     "text": [
      "Classification Report: \n",
      "               precision    recall  f1-score   support\n",
      "\n",
      "           0       0.71      0.69      0.70      1000\n",
      "           1       0.82      0.78      0.80      1000\n",
      "           2       0.59      0.57      0.58      1000\n",
      "           3       0.45      0.48      0.47      1000\n",
      "           4       0.61      0.59      0.60      1000\n",
      "           5       0.55      0.56      0.56      1000\n",
      "           6       0.75      0.72      0.73      1000\n",
      "           7       0.68      0.69      0.69      1000\n",
      "           8       0.78      0.79      0.78      1000\n",
      "           9       0.72      0.76      0.74      1000\n",
      "\n",
      "    accuracy                           0.66     10000\n",
      "   macro avg       0.67      0.66      0.66     10000\n",
      "weighted avg       0.67      0.66      0.66     10000\n",
      "\n"
     ]
    }
   ],
   "source": [
    "print(\"Classification Report: \\n\", classification_report(y_test, y_classes))"
   ]
  },
  {
   "cell_type": "code",
   "execution_count": 10,
   "metadata": {},
   "outputs": [],
   "source": [
    "# We have exported our model\n",
    "with open('cnn_model.pkl','wb') as files:\n",
    "    pickle.dump(cnn,files)"
   ]
  }
 ],
 "metadata": {
  "kernelspec": {
   "display_name": "myvenv",
   "language": "python",
   "name": "python3"
  },
  "language_info": {
   "codemirror_mode": {
    "name": "ipython",
    "version": 3
   },
   "file_extension": ".py",
   "mimetype": "text/x-python",
   "name": "python",
   "nbconvert_exporter": "python",
   "pygments_lexer": "ipython3",
   "version": "3.10.5"
  }
 },
 "nbformat": 4,
 "nbformat_minor": 2
}
